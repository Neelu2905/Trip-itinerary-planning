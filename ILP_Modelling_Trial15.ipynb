{
 "cells": [
  {
   "cell_type": "markdown",
   "id": "977479a8-183e-41aa-a76d-1d9eae0d7347",
   "metadata": {},
   "source": [
    "**City - Dummy + STE_Counter_Graph\\\n",
    "POIs = 6**"
   ]
  },
  {
   "cell_type": "code",
   "execution_count": 2,
   "id": "788d4f48-1060-4bc1-958f-c771105f6acc",
   "metadata": {},
   "outputs": [],
   "source": [
    "from gurobipy import Model, GRB, quicksum\n",
    "import pandas as pd"
   ]
  },
  {
   "cell_type": "code",
   "execution_count": 3,
   "id": "4acac0e7-844f-45c2-a229-52e99b4f909f",
   "metadata": {},
   "outputs": [],
   "source": [
    "# Load data\n",
    "cost_data = pd.read_excel('/Users/priyanshukumarjha/Desktop/Itinerary Data/Trial _Sheet_Data/Trial_Sheet_15/buda_cost.xlsx')\n",
    "utility_buda = pd.read_excel('/Users/priyanshukumarjha/Desktop/Itinerary Data/Trial _Sheet_Data/Trial_Sheet_15/hehe.xlsx')"
   ]
  },
  {
   "cell_type": "code",
   "execution_count": 4,
   "id": "465a75cd-fa39-4a2a-8df0-f6a57d653ff7",
   "metadata": {},
   "outputs": [
    {
     "data": {
      "text/html": [
       "<div>\n",
       "<style scoped>\n",
       "    .dataframe tbody tr th:only-of-type {\n",
       "        vertical-align: middle;\n",
       "    }\n",
       "\n",
       "    .dataframe tbody tr th {\n",
       "        vertical-align: top;\n",
       "    }\n",
       "\n",
       "    .dataframe thead th {\n",
       "        text-align: right;\n",
       "    }\n",
       "</style>\n",
       "<table border=\"1\" class=\"dataframe\">\n",
       "  <thead>\n",
       "    <tr style=\"text-align: right;\">\n",
       "      <th></th>\n",
       "      <th>from</th>\n",
       "      <th>to</th>\n",
       "      <th>cost</th>\n",
       "    </tr>\n",
       "  </thead>\n",
       "  <tbody>\n",
       "    <tr>\n",
       "      <th>0</th>\n",
       "      <td>1</td>\n",
       "      <td>2</td>\n",
       "      <td>2667</td>\n",
       "    </tr>\n",
       "    <tr>\n",
       "      <th>1</th>\n",
       "      <td>1</td>\n",
       "      <td>3</td>\n",
       "      <td>12000</td>\n",
       "    </tr>\n",
       "    <tr>\n",
       "      <th>2</th>\n",
       "      <td>1</td>\n",
       "      <td>4</td>\n",
       "      <td>12000</td>\n",
       "    </tr>\n",
       "    <tr>\n",
       "      <th>3</th>\n",
       "      <td>1</td>\n",
       "      <td>5</td>\n",
       "      <td>12000</td>\n",
       "    </tr>\n",
       "    <tr>\n",
       "      <th>4</th>\n",
       "      <td>1</td>\n",
       "      <td>6</td>\n",
       "      <td>12000</td>\n",
       "    </tr>\n",
       "    <tr>\n",
       "      <th>5</th>\n",
       "      <td>2</td>\n",
       "      <td>1</td>\n",
       "      <td>2667</td>\n",
       "    </tr>\n",
       "    <tr>\n",
       "      <th>6</th>\n",
       "      <td>2</td>\n",
       "      <td>3</td>\n",
       "      <td>12000</td>\n",
       "    </tr>\n",
       "    <tr>\n",
       "      <th>7</th>\n",
       "      <td>2</td>\n",
       "      <td>4</td>\n",
       "      <td>12000</td>\n",
       "    </tr>\n",
       "    <tr>\n",
       "      <th>8</th>\n",
       "      <td>2</td>\n",
       "      <td>5</td>\n",
       "      <td>12000</td>\n",
       "    </tr>\n",
       "    <tr>\n",
       "      <th>9</th>\n",
       "      <td>2</td>\n",
       "      <td>6</td>\n",
       "      <td>2667</td>\n",
       "    </tr>\n",
       "    <tr>\n",
       "      <th>10</th>\n",
       "      <td>3</td>\n",
       "      <td>1</td>\n",
       "      <td>12000</td>\n",
       "    </tr>\n",
       "    <tr>\n",
       "      <th>11</th>\n",
       "      <td>3</td>\n",
       "      <td>2</td>\n",
       "      <td>12000</td>\n",
       "    </tr>\n",
       "    <tr>\n",
       "      <th>12</th>\n",
       "      <td>3</td>\n",
       "      <td>4</td>\n",
       "      <td>2667</td>\n",
       "    </tr>\n",
       "    <tr>\n",
       "      <th>13</th>\n",
       "      <td>3</td>\n",
       "      <td>5</td>\n",
       "      <td>2667</td>\n",
       "    </tr>\n",
       "    <tr>\n",
       "      <th>14</th>\n",
       "      <td>3</td>\n",
       "      <td>6</td>\n",
       "      <td>12000</td>\n",
       "    </tr>\n",
       "    <tr>\n",
       "      <th>15</th>\n",
       "      <td>4</td>\n",
       "      <td>1</td>\n",
       "      <td>12000</td>\n",
       "    </tr>\n",
       "    <tr>\n",
       "      <th>16</th>\n",
       "      <td>4</td>\n",
       "      <td>2</td>\n",
       "      <td>12000</td>\n",
       "    </tr>\n",
       "    <tr>\n",
       "      <th>17</th>\n",
       "      <td>4</td>\n",
       "      <td>3</td>\n",
       "      <td>2667</td>\n",
       "    </tr>\n",
       "    <tr>\n",
       "      <th>18</th>\n",
       "      <td>4</td>\n",
       "      <td>5</td>\n",
       "      <td>2667</td>\n",
       "    </tr>\n",
       "    <tr>\n",
       "      <th>19</th>\n",
       "      <td>4</td>\n",
       "      <td>6</td>\n",
       "      <td>12000</td>\n",
       "    </tr>\n",
       "    <tr>\n",
       "      <th>20</th>\n",
       "      <td>5</td>\n",
       "      <td>1</td>\n",
       "      <td>12000</td>\n",
       "    </tr>\n",
       "    <tr>\n",
       "      <th>21</th>\n",
       "      <td>5</td>\n",
       "      <td>2</td>\n",
       "      <td>12000</td>\n",
       "    </tr>\n",
       "    <tr>\n",
       "      <th>22</th>\n",
       "      <td>5</td>\n",
       "      <td>3</td>\n",
       "      <td>2667</td>\n",
       "    </tr>\n",
       "    <tr>\n",
       "      <th>23</th>\n",
       "      <td>5</td>\n",
       "      <td>4</td>\n",
       "      <td>2667</td>\n",
       "    </tr>\n",
       "    <tr>\n",
       "      <th>24</th>\n",
       "      <td>5</td>\n",
       "      <td>6</td>\n",
       "      <td>12000</td>\n",
       "    </tr>\n",
       "    <tr>\n",
       "      <th>25</th>\n",
       "      <td>6</td>\n",
       "      <td>1</td>\n",
       "      <td>12000</td>\n",
       "    </tr>\n",
       "    <tr>\n",
       "      <th>26</th>\n",
       "      <td>6</td>\n",
       "      <td>2</td>\n",
       "      <td>2667</td>\n",
       "    </tr>\n",
       "    <tr>\n",
       "      <th>27</th>\n",
       "      <td>6</td>\n",
       "      <td>3</td>\n",
       "      <td>12000</td>\n",
       "    </tr>\n",
       "    <tr>\n",
       "      <th>28</th>\n",
       "      <td>6</td>\n",
       "      <td>4</td>\n",
       "      <td>12000</td>\n",
       "    </tr>\n",
       "    <tr>\n",
       "      <th>29</th>\n",
       "      <td>6</td>\n",
       "      <td>5</td>\n",
       "      <td>12000</td>\n",
       "    </tr>\n",
       "  </tbody>\n",
       "</table>\n",
       "</div>"
      ],
      "text/plain": [
       "    from  to   cost\n",
       "0      1   2   2667\n",
       "1      1   3  12000\n",
       "2      1   4  12000\n",
       "3      1   5  12000\n",
       "4      1   6  12000\n",
       "5      2   1   2667\n",
       "6      2   3  12000\n",
       "7      2   4  12000\n",
       "8      2   5  12000\n",
       "9      2   6   2667\n",
       "10     3   1  12000\n",
       "11     3   2  12000\n",
       "12     3   4   2667\n",
       "13     3   5   2667\n",
       "14     3   6  12000\n",
       "15     4   1  12000\n",
       "16     4   2  12000\n",
       "17     4   3   2667\n",
       "18     4   5   2667\n",
       "19     4   6  12000\n",
       "20     5   1  12000\n",
       "21     5   2  12000\n",
       "22     5   3   2667\n",
       "23     5   4   2667\n",
       "24     5   6  12000\n",
       "25     6   1  12000\n",
       "26     6   2   2667\n",
       "27     6   3  12000\n",
       "28     6   4  12000\n",
       "29     6   5  12000"
      ]
     },
     "execution_count": 4,
     "metadata": {},
     "output_type": "execute_result"
    }
   ],
   "source": [
    "cost_data"
   ]
  },
  {
   "cell_type": "code",
   "execution_count": 5,
   "id": "717efcc0-850f-41b0-a00c-83c5bfb9bf9e",
   "metadata": {},
   "outputs": [
    {
     "data": {
      "text/html": [
       "<div>\n",
       "<style scoped>\n",
       "    .dataframe tbody tr th:only-of-type {\n",
       "        vertical-align: middle;\n",
       "    }\n",
       "\n",
       "    .dataframe tbody tr th {\n",
       "        vertical-align: top;\n",
       "    }\n",
       "\n",
       "    .dataframe thead th {\n",
       "        text-align: right;\n",
       "    }\n",
       "</style>\n",
       "<table border=\"1\" class=\"dataframe\">\n",
       "  <thead>\n",
       "    <tr style=\"text-align: right;\">\n",
       "      <th></th>\n",
       "      <th>poiID</th>\n",
       "      <th>poiName</th>\n",
       "      <th>theme</th>\n",
       "      <th>Avg Visiting TIme</th>\n",
       "      <th>Utility Score</th>\n",
       "      <th>opening time</th>\n",
       "      <th>closing time</th>\n",
       "      <th>Monday</th>\n",
       "      <th>Tuesday</th>\n",
       "      <th>Wednesday</th>\n",
       "      <th>Thursday</th>\n",
       "      <th>Friday</th>\n",
       "      <th>Saturday</th>\n",
       "      <th>Sunday</th>\n",
       "    </tr>\n",
       "  </thead>\n",
       "  <tbody>\n",
       "    <tr>\n",
       "      <th>0</th>\n",
       "      <td>1</td>\n",
       "      <td>A</td>\n",
       "      <td>Structure</td>\n",
       "      <td>0</td>\n",
       "      <td>0</td>\n",
       "      <td>00:00:00</td>\n",
       "      <td>23:59:00</td>\n",
       "      <td>1</td>\n",
       "      <td>1</td>\n",
       "      <td>1</td>\n",
       "      <td>1</td>\n",
       "      <td>1</td>\n",
       "      <td>1</td>\n",
       "      <td>1</td>\n",
       "    </tr>\n",
       "    <tr>\n",
       "      <th>1</th>\n",
       "      <td>2</td>\n",
       "      <td>B</td>\n",
       "      <td>Structure</td>\n",
       "      <td>10</td>\n",
       "      <td>20</td>\n",
       "      <td>00:00:00</td>\n",
       "      <td>23:59:00</td>\n",
       "      <td>1</td>\n",
       "      <td>1</td>\n",
       "      <td>1</td>\n",
       "      <td>1</td>\n",
       "      <td>1</td>\n",
       "      <td>1</td>\n",
       "      <td>1</td>\n",
       "    </tr>\n",
       "    <tr>\n",
       "      <th>2</th>\n",
       "      <td>3</td>\n",
       "      <td>C</td>\n",
       "      <td>Structure</td>\n",
       "      <td>10</td>\n",
       "      <td>20</td>\n",
       "      <td>00:00:00</td>\n",
       "      <td>23:59:00</td>\n",
       "      <td>1</td>\n",
       "      <td>1</td>\n",
       "      <td>1</td>\n",
       "      <td>1</td>\n",
       "      <td>1</td>\n",
       "      <td>1</td>\n",
       "      <td>1</td>\n",
       "    </tr>\n",
       "    <tr>\n",
       "      <th>3</th>\n",
       "      <td>4</td>\n",
       "      <td>D</td>\n",
       "      <td>Precinct</td>\n",
       "      <td>10</td>\n",
       "      <td>20</td>\n",
       "      <td>00:00:00</td>\n",
       "      <td>23:59:00</td>\n",
       "      <td>1</td>\n",
       "      <td>1</td>\n",
       "      <td>1</td>\n",
       "      <td>1</td>\n",
       "      <td>1</td>\n",
       "      <td>1</td>\n",
       "      <td>1</td>\n",
       "    </tr>\n",
       "    <tr>\n",
       "      <th>4</th>\n",
       "      <td>5</td>\n",
       "      <td>E</td>\n",
       "      <td>Hotel</td>\n",
       "      <td>10</td>\n",
       "      <td>20</td>\n",
       "      <td>00:00:00</td>\n",
       "      <td>23:59:00</td>\n",
       "      <td>1</td>\n",
       "      <td>1</td>\n",
       "      <td>1</td>\n",
       "      <td>1</td>\n",
       "      <td>1</td>\n",
       "      <td>1</td>\n",
       "      <td>1</td>\n",
       "    </tr>\n",
       "    <tr>\n",
       "      <th>5</th>\n",
       "      <td>6</td>\n",
       "      <td>F</td>\n",
       "      <td>Library</td>\n",
       "      <td>0</td>\n",
       "      <td>0</td>\n",
       "      <td>00:00:00</td>\n",
       "      <td>23:59:00</td>\n",
       "      <td>1</td>\n",
       "      <td>1</td>\n",
       "      <td>1</td>\n",
       "      <td>1</td>\n",
       "      <td>1</td>\n",
       "      <td>1</td>\n",
       "      <td>1</td>\n",
       "    </tr>\n",
       "  </tbody>\n",
       "</table>\n",
       "</div>"
      ],
      "text/plain": [
       "   poiID poiName      theme  Avg Visiting TIme  Utility Score opening time  \\\n",
       "0      1       A  Structure                  0              0     00:00:00   \n",
       "1      2       B  Structure                 10             20     00:00:00   \n",
       "2      3       C  Structure                 10             20     00:00:00   \n",
       "3      4       D   Precinct                 10             20     00:00:00   \n",
       "4      5       E      Hotel                 10             20     00:00:00   \n",
       "5      6       F    Library                  0              0     00:00:00   \n",
       "\n",
       "  closing time  Monday  Tuesday  Wednesday  Thursday  Friday  Saturday  Sunday  \n",
       "0     23:59:00       1        1          1         1       1         1       1  \n",
       "1     23:59:00       1        1          1         1       1         1       1  \n",
       "2     23:59:00       1        1          1         1       1         1       1  \n",
       "3     23:59:00       1        1          1         1       1         1       1  \n",
       "4     23:59:00       1        1          1         1       1         1       1  \n",
       "5     23:59:00       1        1          1         1       1         1       1  "
      ]
     },
     "execution_count": 5,
     "metadata": {},
     "output_type": "execute_result"
    }
   ],
   "source": [
    "utility_buda"
   ]
  },
  {
   "cell_type": "code",
   "execution_count": 6,
   "id": "98e93cdb-574b-4cd7-bd63-f67d398962c6",
   "metadata": {},
   "outputs": [],
   "source": [
    "# Extract relevant data\n",
    "poi_ids = utility_buda['poiID'].tolist()\n",
    "visit_times = dict(zip(utility_buda['poiID'], utility_buda['Avg Visiting TIme']))\n",
    "utility_scores = dict(zip(utility_buda['poiID'], utility_buda['Utility Score']))"
   ]
  },
  {
   "cell_type": "code",
   "execution_count": 7,
   "id": "1aa2d17a-4906-429d-bb18-99e70424137c",
   "metadata": {
    "scrolled": true
   },
   "outputs": [
    {
     "data": {
      "text/plain": [
       "[1, 2, 3, 4, 5, 6]"
      ]
     },
     "execution_count": 7,
     "metadata": {},
     "output_type": "execute_result"
    }
   ],
   "source": [
    "poi_ids"
   ]
  },
  {
   "cell_type": "code",
   "execution_count": 8,
   "id": "3f4224d4-436a-46c5-afa1-54868b350b14",
   "metadata": {
    "scrolled": true
   },
   "outputs": [
    {
     "data": {
      "text/plain": [
       "{1: 0, 2: 10, 3: 10, 4: 10, 5: 10, 6: 0}"
      ]
     },
     "execution_count": 8,
     "metadata": {},
     "output_type": "execute_result"
    }
   ],
   "source": [
    "visit_times"
   ]
  },
  {
   "cell_type": "code",
   "execution_count": 9,
   "id": "a398f1a6-dea7-4009-aa74-200e61885ce6",
   "metadata": {
    "scrolled": true
   },
   "outputs": [
    {
     "data": {
      "text/plain": [
       "{1: 0, 2: 20, 3: 20, 4: 20, 5: 20, 6: 0}"
      ]
     },
     "execution_count": 9,
     "metadata": {},
     "output_type": "execute_result"
    }
   ],
   "source": [
    "utility_scores"
   ]
  },
  {
   "cell_type": "code",
   "execution_count": 10,
   "id": "45174b5e-2393-4e6f-9e5c-30161586430d",
   "metadata": {},
   "outputs": [],
   "source": [
    "# Create a dictionary for travel times in minutes (cost in meters converted to km then multiplied by 15)\n",
    "travel_times = {(row['from'], row['to']): (row['cost'] / 1000) * 15 for _, row in cost_data.iterrows()}"
   ]
  },
  {
   "cell_type": "code",
   "execution_count": 11,
   "id": "52ddbd21-cceb-4303-9eaf-36d1bc3f7885",
   "metadata": {},
   "outputs": [],
   "source": [
    "# Extract opening and closing times into dictionaries\n",
    "opening_times = utility_buda.set_index(\"poiID\")[\"opening time\"].to_dict()\n",
    "closing_times = utility_buda.set_index(\"poiID\")[\"closing time\"].to_dict()"
   ]
  },
  {
   "cell_type": "code",
   "execution_count": 12,
   "id": "9012c518-dc42-466b-ae82-8451b11d8688",
   "metadata": {},
   "outputs": [
    {
     "data": {
      "text/plain": [
       "{1: datetime.time(23, 59),\n",
       " 2: datetime.time(23, 59),\n",
       " 3: datetime.time(23, 59),\n",
       " 4: datetime.time(23, 59),\n",
       " 5: datetime.time(23, 59),\n",
       " 6: datetime.time(23, 59)}"
      ]
     },
     "execution_count": 12,
     "metadata": {},
     "output_type": "execute_result"
    }
   ],
   "source": [
    "closing_times"
   ]
  },
  {
   "cell_type": "code",
   "execution_count": 13,
   "id": "1183f2ce-ca2a-4e28-a4a1-0a47da700fac",
   "metadata": {
    "scrolled": true
   },
   "outputs": [
    {
     "data": {
      "text/plain": [
       "{(1, 2): 40.004999999999995,\n",
       " (1, 3): 180.0,\n",
       " (1, 4): 180.0,\n",
       " (1, 5): 180.0,\n",
       " (1, 6): 180.0,\n",
       " (2, 1): 40.004999999999995,\n",
       " (2, 3): 180.0,\n",
       " (2, 4): 180.0,\n",
       " (2, 5): 180.0,\n",
       " (2, 6): 40.004999999999995,\n",
       " (3, 1): 180.0,\n",
       " (3, 2): 180.0,\n",
       " (3, 4): 40.004999999999995,\n",
       " (3, 5): 40.004999999999995,\n",
       " (3, 6): 180.0,\n",
       " (4, 1): 180.0,\n",
       " (4, 2): 180.0,\n",
       " (4, 3): 40.004999999999995,\n",
       " (4, 5): 40.004999999999995,\n",
       " (4, 6): 180.0,\n",
       " (5, 1): 180.0,\n",
       " (5, 2): 180.0,\n",
       " (5, 3): 40.004999999999995,\n",
       " (5, 4): 40.004999999999995,\n",
       " (5, 6): 180.0,\n",
       " (6, 1): 180.0,\n",
       " (6, 2): 40.004999999999995,\n",
       " (6, 3): 180.0,\n",
       " (6, 4): 180.0,\n",
       " (6, 5): 180.0}"
      ]
     },
     "execution_count": 13,
     "metadata": {},
     "output_type": "execute_result"
    }
   ],
   "source": [
    "travel_times"
   ]
  },
  {
   "cell_type": "markdown",
   "id": "a717bb1c-8cbd-488e-897e-a8a448b3156e",
   "metadata": {},
   "source": [
    "## TIME BUDGET"
   ]
  },
  {
   "cell_type": "code",
   "execution_count": 15,
   "id": "e500aae3-50a3-47a7-8469-8240f5512ea0",
   "metadata": {},
   "outputs": [],
   "source": [
    "# Time budget in minutes \n",
    "time_budget = 400"
   ]
  },
  {
   "cell_type": "code",
   "execution_count": 16,
   "id": "681b1d5e-5bda-4871-8c19-c4cf26ee67fb",
   "metadata": {},
   "outputs": [
    {
     "name": "stdout",
     "output_type": "stream",
     "text": [
      "Set parameter Username\n",
      "Set parameter LicenseID to value 2616933\n",
      "Academic license - for non-commercial use only - expires 2026-01-31\n"
     ]
    }
   ],
   "source": [
    "model = Model(\"ILP_Model_1\")"
   ]
  },
  {
   "cell_type": "markdown",
   "id": "07619a07-a109-4df9-8418-9954f46248f8",
   "metadata": {},
   "source": [
    "## DECLARING VARIABLES"
   ]
  },
  {
   "cell_type": "code",
   "execution_count": 18,
   "id": "e491930a-dd65-4272-aba2-bd5cb5163681",
   "metadata": {},
   "outputs": [],
   "source": [
    "# Decision variables: y[i] = 1 if POI i is included in the itinerary, 0 otherwise\n",
    "y = model.addVars(poi_ids, vtype=GRB.BINARY, name=\"y\")"
   ]
  },
  {
   "cell_type": "code",
   "execution_count": 19,
   "id": "d91bd6ab-98a8-423c-b8e4-9c537a2935c7",
   "metadata": {},
   "outputs": [],
   "source": [
    "# Introduce new binary variables for travel between POIs\n",
    "z = model.addVars(poi_ids, poi_ids, vtype=GRB.BINARY, name=\"z\")"
   ]
  },
  {
   "cell_type": "code",
   "execution_count": 20,
   "id": "d8aecf48-dda5-451e-a90b-712f53f91531",
   "metadata": {},
   "outputs": [],
   "source": [
    "start_time = model.addVar(vtype=GRB.CONTINUOUS, name=\"start_time\")"
   ]
  },
  {
   "cell_type": "code",
   "execution_count": 21,
   "id": "da6710a4-2732-4ee5-bc69-15ec37de295e",
   "metadata": {},
   "outputs": [],
   "source": [
    "arrival_time = model.addVars(poi_ids, vtype=GRB.CONTINUOUS, name=\"arrival_time\")"
   ]
  },
  {
   "cell_type": "code",
   "execution_count": 22,
   "id": "4fa68ae2-5173-4cb0-8a16-85e491581609",
   "metadata": {},
   "outputs": [],
   "source": [
    "N = len(poi_ids)  # Total number of POIs\n",
    "\n",
    "# # Create continuous variables for the position of each POI in the sequence\n",
    "# p = model.addVars(poi_ids, vtype=GRB.CONTINUOUS, lb=2, ub=N, name=\"p\")"
   ]
  },
  {
   "cell_type": "markdown",
   "id": "105d8352-09cb-4b56-a248-77cdadc3041e",
   "metadata": {},
   "source": [
    "## OBJECTIVE FUNCTION"
   ]
  },
  {
   "cell_type": "code",
   "execution_count": 24,
   "id": "d107688f-2b6e-41ca-be1a-1f18d18427d0",
   "metadata": {},
   "outputs": [],
   "source": [
    "# Objective: Maximize the sum of utility scores for selected POIs\n",
    "model.setObjective(quicksum(utility_scores[i] * y[i] for i in poi_ids), GRB.MAXIMIZE)"
   ]
  },
  {
   "cell_type": "markdown",
   "id": "2bbc87f3-5f07-4301-ab16-0bd0dd8e526e",
   "metadata": {},
   "source": [
    "## TIME CONSTRAINT"
   ]
  },
  {
   "cell_type": "code",
   "execution_count": 26,
   "id": "28c33b0e-ae17-4d34-8fa3-80298c15c525",
   "metadata": {},
   "outputs": [
    {
     "data": {
      "text/plain": [
       "<gurobi.Constr *Awaiting Model Update*>"
      ]
     },
     "execution_count": 26,
     "metadata": {},
     "output_type": "execute_result"
    }
   ],
   "source": [
    "# Ensure total travel + visit time does not exceed the time budget\n",
    "model.addConstr(\n",
    "    quicksum(travel_times.get((i, j), 0) * z[i, j] for i in poi_ids for j in poi_ids if i != j) +\n",
    "    quicksum(visit_times[i] * y[i] for i in poi_ids) <= time_budget,\n",
    "    name=\"TimeConstraint\"\n",
    ")"
   ]
  },
  {
   "cell_type": "markdown",
   "id": "79b5b338-6ade-4984-917f-f2b4234a0ca3",
   "metadata": {},
   "source": [
    "## CATEGORY CONSTRAINT (MADE BOUNDS EMPTY TO AVOID THIS CONSTRAINT)"
   ]
  },
  {
   "cell_type": "code",
   "execution_count": 28,
   "id": "faba62b5-45b6-44a9-bea5-8dfaf6a74fe1",
   "metadata": {},
   "outputs": [],
   "source": [
    "# Define lower and upper bounds for each theme\n",
    "theme_bounds = {\n",
    "    \n",
    "}\n",
    "\n",
    "# Add constraints for each theme\n",
    "for theme, (lower_bound, upper_bound) in theme_bounds.items():\n",
    "    # Sum up the binary variables y[i] for all POIs belonging to the current theme\n",
    "    theme_count = quicksum(y[i] for i in poi_ids if i - 1 < len(utility_buda) and utility_buda.iloc[i - 1][\"theme\"] == theme)\n",
    "\n",
    "    \n",
    "    # Add lower and upper bound constraints\n",
    "    model.addConstr(theme_count >= lower_bound, name=f\"Min_{theme}\")\n",
    "    model.addConstr(theme_count <= upper_bound, name=f\"Max_{theme}\")\n"
   ]
  },
  {
   "cell_type": "markdown",
   "id": "5f919248-dda2-472b-8349-2ca09b9ce36a",
   "metadata": {},
   "source": [
    "## ORDEREING CONSTRAINT (MADE LIST EMPTY TO AVOID THIS CONSTRAINT)"
   ]
  },
  {
   "cell_type": "code",
   "execution_count": 30,
   "id": "35e98a63-ddb2-4fff-80e5-911d6b6541cb",
   "metadata": {},
   "outputs": [],
   "source": [
    "# List of ordering constraints in the form of (a, b)\n",
    "ordering_constraints = []  "
   ]
  },
  {
   "cell_type": "code",
   "execution_count": 31,
   "id": "b5293f80-4910-4746-8a27-073055cf5ae0",
   "metadata": {},
   "outputs": [],
   "source": [
    "def convert_to_minutes(time_obj):\n",
    "    return time_obj.hour * 60 + time_obj.minute\n",
    "\n",
    "# Calculate T_ij dynamically\n",
    "for (a, b) in ordering_constraints:\n",
    "    closing_time_a = convert_to_minutes(closing_times[a])  # Convert closing time to minutes\n",
    "    #T_ij = closing_time_a + visit_times[a] + travel_times.get((a, b), 0)\n",
    "    T_ij=10000\n",
    "    \n",
    "    model.addConstr(\n",
    "        arrival_time[a] + visit_times[a] + travel_times.get((a, b), 0) * y[a] <= arrival_time[b] + T_ij * (1 - y[b]),\n",
    "        name=f\"Ordering_{a}_before_{b}\"\n",
    "    )"
   ]
  },
  {
   "cell_type": "markdown",
   "id": "4d724cfa-69f9-4d00-8fd0-7d658271adc9",
   "metadata": {},
   "source": [
    "## Z[i,i] = 0"
   ]
  },
  {
   "cell_type": "code",
   "execution_count": 33,
   "id": "c48e77af-5425-4653-bf9c-c9971d3be99a",
   "metadata": {},
   "outputs": [
    {
     "data": {
      "text/plain": [
       "{1: <gurobi.Constr *Awaiting Model Update*>,\n",
       " 2: <gurobi.Constr *Awaiting Model Update*>,\n",
       " 3: <gurobi.Constr *Awaiting Model Update*>,\n",
       " 4: <gurobi.Constr *Awaiting Model Update*>,\n",
       " 5: <gurobi.Constr *Awaiting Model Update*>,\n",
       " 6: <gurobi.Constr *Awaiting Model Update*>}"
      ]
     },
     "execution_count": 33,
     "metadata": {},
     "output_type": "execute_result"
    }
   ],
   "source": [
    "# z[i, i] = 0, for i = 1..N\n",
    "model.addConstrs(\n",
    "    (z[i, i] == 0 for i in range(1, N+1)),\n",
    "    name=\"diagonal_zero\"\n",
    ")"
   ]
  },
  {
   "cell_type": "markdown",
   "id": "ced67168-b8eb-4b36-bb9a-a7938095b345",
   "metadata": {},
   "source": [
    "## LOGICAL RELATIONSHIP CONSTRAINT BETWEEN Y AND Z"
   ]
  },
  {
   "cell_type": "code",
   "execution_count": 35,
   "id": "e26bf7d1-6eb9-4cc6-ad34-6f399552fa5a",
   "metadata": {},
   "outputs": [],
   "source": [
    "# Additional constraint: Ensure logical connection between y[i] and z[i, j]\n",
    "for i in poi_ids:\n",
    "    for j in poi_ids:\n",
    "        if i != j:\n",
    "            model.addConstr(z[i, j] <= y[i], name=f\"TravelStartsFrom_{i}_{j}\")\n",
    "            model.addConstr(z[i, j] <= y[j], name=f\"TravelEndsAt_{i}_{j}\")"
   ]
  },
  {
   "cell_type": "code",
   "execution_count": 36,
   "id": "2c1c41d3-0cf8-4177-a609-e24601c3b5f6",
   "metadata": {},
   "outputs": [
    {
     "data": {
      "text/plain": [
       "{1: <gurobi.Constr *Awaiting Model Update*>,\n",
       " 2: <gurobi.Constr *Awaiting Model Update*>,\n",
       " 3: <gurobi.Constr *Awaiting Model Update*>,\n",
       " 4: <gurobi.Constr *Awaiting Model Update*>,\n",
       " 5: <gurobi.Constr *Awaiting Model Update*>}"
      ]
     },
     "execution_count": 36,
     "metadata": {},
     "output_type": "execute_result"
    }
   ],
   "source": [
    "# y_i <= sum_{j=1..N} z_{i,j}, for i = 1..N-1\n",
    "model.addConstrs(\n",
    "    (y[i] <= quicksum(z[i, j] for j in range(1, N+1)))\n",
    "    for i in range(1, N)\n",
    ")"
   ]
  },
  {
   "cell_type": "code",
   "execution_count": 37,
   "id": "b0693a00-38e4-4cb3-91eb-1b9298d85da0",
   "metadata": {},
   "outputs": [
    {
     "data": {
      "text/plain": [
       "{2: <gurobi.Constr *Awaiting Model Update*>,\n",
       " 3: <gurobi.Constr *Awaiting Model Update*>,\n",
       " 4: <gurobi.Constr *Awaiting Model Update*>,\n",
       " 5: <gurobi.Constr *Awaiting Model Update*>,\n",
       " 6: <gurobi.Constr *Awaiting Model Update*>}"
      ]
     },
     "execution_count": 37,
     "metadata": {},
     "output_type": "execute_result"
    }
   ],
   "source": [
    "# y_j <= sum_{i=1..N} z_{i,j}, for j = 2..N\n",
    "model.addConstrs(\n",
    "    (y[j] <= quicksum(z[i, j] for i in range(1, N+1)))\n",
    "    for j in range(2, N+1)\n",
    ")"
   ]
  },
  {
   "cell_type": "code",
   "execution_count": 38,
   "id": "f3caeb80-eab7-4a5f-8567-ff33a9964e42",
   "metadata": {},
   "outputs": [
    {
     "name": "stdout",
     "output_type": "stream",
     "text": [
      "<gurobi.Var *Awaiting Model Update*>\n",
      "<gurobi.Var *Awaiting Model Update*>\n",
      "<gurobi.Var *Awaiting Model Update*>\n",
      "<gurobi.Var *Awaiting Model Update*>\n",
      "<gurobi.Var *Awaiting Model Update*>\n",
      "<gurobi.Var *Awaiting Model Update*>\n"
     ]
    }
   ],
   "source": [
    "for i in poi_ids:\n",
    "    print(y[i])"
   ]
  },
  {
   "cell_type": "code",
   "execution_count": 39,
   "id": "3f97ee43-1209-4749-8950-2df0080fbdc0",
   "metadata": {},
   "outputs": [
    {
     "name": "stdout",
     "output_type": "stream",
     "text": [
      "<gurobi.Var *Awaiting Model Update*>\n",
      "<gurobi.Var *Awaiting Model Update*>\n",
      "<gurobi.Var *Awaiting Model Update*>\n",
      "<gurobi.Var *Awaiting Model Update*>\n",
      "<gurobi.Var *Awaiting Model Update*>\n",
      "<gurobi.Var *Awaiting Model Update*>\n",
      "<gurobi.Var *Awaiting Model Update*>\n",
      "<gurobi.Var *Awaiting Model Update*>\n",
      "<gurobi.Var *Awaiting Model Update*>\n",
      "<gurobi.Var *Awaiting Model Update*>\n",
      "<gurobi.Var *Awaiting Model Update*>\n",
      "<gurobi.Var *Awaiting Model Update*>\n",
      "<gurobi.Var *Awaiting Model Update*>\n",
      "<gurobi.Var *Awaiting Model Update*>\n",
      "<gurobi.Var *Awaiting Model Update*>\n",
      "<gurobi.Var *Awaiting Model Update*>\n",
      "<gurobi.Var *Awaiting Model Update*>\n",
      "<gurobi.Var *Awaiting Model Update*>\n",
      "<gurobi.Var *Awaiting Model Update*>\n",
      "<gurobi.Var *Awaiting Model Update*>\n",
      "<gurobi.Var *Awaiting Model Update*>\n",
      "<gurobi.Var *Awaiting Model Update*>\n",
      "<gurobi.Var *Awaiting Model Update*>\n",
      "<gurobi.Var *Awaiting Model Update*>\n",
      "<gurobi.Var *Awaiting Model Update*>\n",
      "<gurobi.Var *Awaiting Model Update*>\n",
      "<gurobi.Var *Awaiting Model Update*>\n",
      "<gurobi.Var *Awaiting Model Update*>\n",
      "<gurobi.Var *Awaiting Model Update*>\n",
      "<gurobi.Var *Awaiting Model Update*>\n"
     ]
    }
   ],
   "source": [
    "for i in poi_ids:\n",
    "    for j in poi_ids:\n",
    "        if i!=j:\n",
    "            print(z[i,j])"
   ]
  },
  {
   "cell_type": "code",
   "execution_count": 40,
   "id": "7070c6a2-20f8-4e6a-9c78-583aca27127c",
   "metadata": {},
   "outputs": [],
   "source": [
    "starting_poi = poi_ids[0]\n",
    "ending_poi = poi_ids[-1]"
   ]
  },
  {
   "cell_type": "code",
   "execution_count": 41,
   "id": "1d2c5717-6fa4-4c02-9536-36e0580ea8b9",
   "metadata": {},
   "outputs": [
    {
     "data": {
      "text/plain": [
       "6"
      ]
     },
     "execution_count": 41,
     "metadata": {},
     "output_type": "execute_result"
    }
   ],
   "source": [
    "ending_poi"
   ]
  },
  {
   "cell_type": "markdown",
   "id": "fb32a22e-142f-4bf2-87c4-a4744406f54c",
   "metadata": {},
   "source": [
    "## POI 1 AND N SHOULD ALWAYS BE PART OF ITINERARY"
   ]
  },
  {
   "cell_type": "code",
   "execution_count": 43,
   "id": "92995348-81f8-473a-861c-38cc1a41c8ed",
   "metadata": {},
   "outputs": [],
   "source": [
    "# THIS CONSTRAINT IS ALREADY IMPOSED BY OTHER CONSTRAINTS\n",
    "\n",
    "# # Constraint: POI 1 must always be part of the itinerary (start point)\n",
    "# model.addConstr(y[starting_poi] == 1, name=\"StartPoint\")\n",
    "\n",
    "# # Constraint: POI 8 must always be part of the itinerary (end point)\n",
    "# model.addConstr(y[ending_poi] == 1, name=\"EndPoint\")"
   ]
  },
  {
   "cell_type": "code",
   "execution_count": 44,
   "id": "c638ddbe-f930-4301-b346-cb9eacdb9b16",
   "metadata": {},
   "outputs": [
    {
     "data": {
      "text/plain": [
       "<gurobi.Constr *Awaiting Model Update*>"
      ]
     },
     "execution_count": 44,
     "metadata": {},
     "output_type": "execute_result"
    }
   ],
   "source": [
    "# Start point: Exactly one outgoing edge from node 1\n",
    "model.addConstr(quicksum(z[starting_poi, j] for j in poi_ids if j != starting_poi) == 1, name=\"StartConstraint\")\n",
    "\n",
    "# End point: Exactly one incoming edge to node 6\n",
    "model.addConstr(quicksum(z[i, ending_poi] for i in poi_ids if i != ending_poi) == 1, name=\"EndConstraint\")"
   ]
  },
  {
   "cell_type": "markdown",
   "id": "cc08fcb3-991c-45c6-b15f-497bdeb7870a",
   "metadata": {},
   "source": [
    "## CONNECTIVITY CONSTRAINT"
   ]
  },
  {
   "cell_type": "code",
   "execution_count": 46,
   "id": "175fd2c2-2465-4789-b134-bd187f258db6",
   "metadata": {},
   "outputs": [],
   "source": [
    "# Connectivity: Each intermediate POI must have exactly one incoming and one outgoing edge if it is selected\n",
    "for k in poi_ids:\n",
    "    if k not in [starting_poi, ending_poi]:  # Skip start and end points\n",
    "        model.addConstr(quicksum(z[i, k] for i in poi_ids if i != k) == y[k], name=f\"FlowIn_{k}\")\n",
    "        model.addConstr(quicksum(z[k, j] for j in poi_ids if j != k) == y[k], name=f\"FlowOut_{k}\")"
   ]
  },
  {
   "cell_type": "markdown",
   "id": "2e79574a-697d-432b-8446-006d439c7479",
   "metadata": {},
   "source": [
    "## SUBTOUR ELIMINATION"
   ]
  },
  {
   "cell_type": "code",
   "execution_count": 48,
   "id": "206b2f99-0263-4d63-af00-1b54b2a59a11",
   "metadata": {},
   "outputs": [],
   "source": [
    "# # Add the subtour elimination constraints\n",
    "# for i in poi_ids:\n",
    "#     for j in poi_ids:\n",
    "#         if i != j and i > starting_poi and j > starting_poi:  # Skip the start POI\n",
    "#             model.addConstr(\n",
    "#                 p[i] - p[j] + 1 <= (N - 1) * (1 - z[i, j]),\n",
    "#                 name=f\"SubtourElimination_{i}_{j}\"\n",
    "#             )"
   ]
  },
  {
   "cell_type": "markdown",
   "id": "406246a0-cda6-49e9-8f9b-08dd1eb0d636",
   "metadata": {},
   "source": [
    "## No incoming edges from any POI to starting_poi"
   ]
  },
  {
   "cell_type": "code",
   "execution_count": 50,
   "id": "52fe7143-0883-4433-b157-a5a7c58f476b",
   "metadata": {},
   "outputs": [
    {
     "data": {
      "text/plain": [
       "<gurobi.Constr *Awaiting Model Update*>"
      ]
     },
     "execution_count": 50,
     "metadata": {},
     "output_type": "execute_result"
    }
   ],
   "source": [
    "# No outgoing edges from POI ending_poi\n",
    "model.addConstr(quicksum(z[i, starting_poi] for i in poi_ids if i != starting_poi) == 0, name=\"NoIncomingToStart\")"
   ]
  },
  {
   "cell_type": "markdown",
   "id": "9c9a9ea6-6fff-4c53-84f1-4133e4184f88",
   "metadata": {},
   "source": [
    "## No outgoing edges to any POI from ending_poi"
   ]
  },
  {
   "cell_type": "code",
   "execution_count": 52,
   "id": "81c1094a-fda4-45ec-9bc1-ab73783cb237",
   "metadata": {},
   "outputs": [
    {
     "data": {
      "text/plain": [
       "<gurobi.Constr *Awaiting Model Update*>"
      ]
     },
     "execution_count": 52,
     "metadata": {},
     "output_type": "execute_result"
    }
   ],
   "source": [
    "# No outgoing edges from POI ending_poi\n",
    "model.addConstr(quicksum(z[ending_poi, j] for j in poi_ids if j != ending_poi) == 0, name=\"NoOutgoingFromEnd\")"
   ]
  },
  {
   "cell_type": "markdown",
   "id": "41a42fc0-2178-4b77-af0c-3e1a60bef600",
   "metadata": {},
   "source": [
    "## CONVERTING ALL OPENING AND CLOSING TIMES IN MINUTE FORMAT FROM 00:00AM FOR FURTHER CALCULATIONS"
   ]
  },
  {
   "cell_type": "code",
   "execution_count": 54,
   "id": "07c268a2-0aaf-4f49-8dc9-fad3cf87e3a9",
   "metadata": {},
   "outputs": [],
   "source": [
    "def convert_to_minutes(time_obj):\n",
    "    return time_obj.hour * 60 + time_obj.minute\n",
    "\n",
    "opening_times = {i: convert_to_minutes(t) for i, t in opening_times.items()}\n",
    "closing_times = {i: convert_to_minutes(t) for i, t in closing_times.items()}\n"
   ]
  },
  {
   "cell_type": "code",
   "execution_count": 55,
   "id": "9ef55b67-8b3e-4793-80bd-9764ad5e31ab",
   "metadata": {},
   "outputs": [
    {
     "data": {
      "text/plain": [
       "{1: 0, 2: 0, 3: 0, 4: 0, 5: 0, 6: 0}"
      ]
     },
     "execution_count": 55,
     "metadata": {},
     "output_type": "execute_result"
    }
   ],
   "source": [
    "opening_times"
   ]
  },
  {
   "cell_type": "markdown",
   "id": "dd7a53d4-ecf8-4fdb-a455-ed74f78d4eac",
   "metadata": {},
   "source": [
    "## STARTING TIME SET TO 10AM (600 MINUTES FROM 00:00 AM)"
   ]
  },
  {
   "cell_type": "code",
   "execution_count": 57,
   "id": "061e78b9-381c-4912-8a16-8ad097a9a8f6",
   "metadata": {},
   "outputs": [
    {
     "data": {
      "text/plain": [
       "<gurobi.Constr *Awaiting Model Update*>"
      ]
     },
     "execution_count": 57,
     "metadata": {},
     "output_type": "execute_result"
    }
   ],
   "source": [
    "#start_time is declared as a continuous variable, meaning it can take any real value between 420 (7:00 AM) and 600 (10:00 AM).\n",
    "#The solver will treat start_time as a decision variable and explore all possible values in that range to find the optimal one that satisfies the objective and other constraints.\n",
    "\n",
    "model.addConstr(start_time == 600, name=\"StartAfter10AM\")\n",
    "\n",
    "# model.addConstr(start_time >= 480, name=\"StartAfter8AM\")  # 480 minutes = 8 AM\n",
    "# model.addConstr(start_time <= 600, name=\"StartBefore10AM\")  # 600 minutes = 10 AM"
   ]
  },
  {
   "cell_type": "code",
   "execution_count": 58,
   "id": "44d5173f-5da0-41e5-b55b-50920099330a",
   "metadata": {},
   "outputs": [
    {
     "data": {
      "text/plain": [
       "<gurobi.Constr *Awaiting Model Update*>"
      ]
     },
     "execution_count": 58,
     "metadata": {},
     "output_type": "execute_result"
    }
   ],
   "source": [
    "model.addConstr(arrival_time[starting_poi] == start_time, name=\"StartTimeAtSource\")"
   ]
  },
  {
   "cell_type": "code",
   "execution_count": 59,
   "id": "3a1aa727-06ff-4050-a8a5-ea06ae7026b2",
   "metadata": {},
   "outputs": [],
   "source": [
    "for i in poi_ids:\n",
    "    for j in poi_ids:\n",
    "        if i != j:\n",
    "            model.addConstr(\n",
    "                arrival_time[i] >= (arrival_time[j] + visit_times[j] + travel_times.get((j, i), 0)) * z[j, i],\n",
    "                name=f\"ArrivalTime_{j}_to_{i}\"\n",
    "            )"
   ]
  },
  {
   "cell_type": "code",
   "execution_count": 60,
   "id": "3bbd5fbb-0d03-4911-b459-f9d6696528f4",
   "metadata": {},
   "outputs": [
    {
     "name": "stdout",
     "output_type": "stream",
     "text": [
      "<gurobi.Var *Awaiting Model Update*>\n",
      "<gurobi.Var *Awaiting Model Update*>\n",
      "<gurobi.Var *Awaiting Model Update*>\n",
      "<gurobi.Var *Awaiting Model Update*>\n",
      "<gurobi.Var *Awaiting Model Update*>\n",
      "<gurobi.Var *Awaiting Model Update*>\n"
     ]
    }
   ],
   "source": [
    "for i in poi_ids:\n",
    "    print(arrival_time[i])"
   ]
  },
  {
   "cell_type": "markdown",
   "id": "37ee2975-3438-4458-8886-c72288fa2344",
   "metadata": {},
   "source": [
    "## OPENING CLOSING TIME OF POI CONSTRAINT (NOT IN USE HERE AS ALL ARE OPEN THROUGHOUT THE DAY 00:00 AM TO 23:59 PM)"
   ]
  },
  {
   "cell_type": "code",
   "execution_count": 62,
   "id": "989189cf-4bda-4cf1-9310-72ac0c6deec9",
   "metadata": {},
   "outputs": [],
   "source": [
    "for i in poi_ids:\n",
    "    model.addConstr(arrival_time[i] >= opening_times[i], name=f\"OpeningTime_{i}\")\n",
    "    model.addConstr(arrival_time[i] <= closing_times[i] - visit_times[i], name=f\"ClosingTime_{i}\")"
   ]
  },
  {
   "cell_type": "code",
   "execution_count": 63,
   "id": "560e9691-4bb0-4b6b-bcd1-5ee90f7e1c2f",
   "metadata": {},
   "outputs": [],
   "source": [
    "# Create a dictionary for day availability\n",
    "days_of_week = ['Monday', 'Tuesday', 'Wednesday', 'Thursday', 'Friday', 'Saturday', 'Sunday']\n",
    "day_availability = {day: {} for day in days_of_week}\n",
    "\n",
    "# Populate the dictionary\n",
    "for i, row in utility_buda.iterrows():\n",
    "    poi_id = row['poiID']\n",
    "    for day in days_of_week:\n",
    "        day_availability[day][poi_id] = row[day]"
   ]
  },
  {
   "cell_type": "markdown",
   "id": "5a4c4fee-33a5-4c8f-8158-57767bf1d820",
   "metadata": {},
   "source": [
    "## OPENINNG CLOSING DAY CONSTRAINT (NOT IN USE HERE AS ALL POIs ARE OPEN ON ALL THE 7 DAYS)"
   ]
  },
  {
   "cell_type": "code",
   "execution_count": 65,
   "id": "f130f16b-be44-420e-b53f-60df7691759e",
   "metadata": {},
   "outputs": [],
   "source": [
    "# Suppose the user selects a day\n",
    "selected_day = 'Tuesday'\n",
    "\n",
    "# Add constraints to ensure POIs are only selected if they are open on the chosen day\n",
    "for i in poi_ids:\n",
    "    if day_availability[selected_day][i] == 0:  # POI is closed on the selected day\n",
    "        model.addConstr(y[i] == 0, name=f\"Closed_POI_{i}_on_{selected_day}\")"
   ]
  },
  {
   "cell_type": "code",
   "execution_count": 66,
   "id": "db4bb864-3a92-4dff-91b8-ee5e16e741cb",
   "metadata": {},
   "outputs": [],
   "source": [
    "if str(i) in day_availability[selected_day]:\n",
    "    if day_availability[selected_day][str(i)] == 0:\n",
    "        model.addConstr(y[i] == 0, name=f\"Closed_POI_{i}_on_{selected_day}\")"
   ]
  },
  {
   "cell_type": "code",
   "execution_count": 67,
   "id": "f0a5f66d-3ce0-4c50-8be6-c3066bceb043",
   "metadata": {},
   "outputs": [
    {
     "name": "stdout",
     "output_type": "stream",
     "text": [
      "dict_keys([1, 2, 3, 4, 5, 6])\n"
     ]
    }
   ],
   "source": [
    "print(day_availability[selected_day].keys())"
   ]
  },
  {
   "cell_type": "code",
   "execution_count": 68,
   "id": "acd7960e-0149-419a-b59d-02c968bdee19",
   "metadata": {},
   "outputs": [],
   "source": [
    "# model.addConstr(z[3, 4] == 1, name=\"fix_z_3_4\")\n",
    "# model.addConstr(z[4, 5] == 1, name=\"fix_z_4_5\")\n",
    "# model.addConstr(z[5, 3] == 1, name=\"fix_z_5_3\")"
   ]
  },
  {
   "cell_type": "code",
   "execution_count": 69,
   "id": "4f7d6a86-6daa-4b31-9cc6-0c771457634e",
   "metadata": {},
   "outputs": [],
   "source": [
    "# def my_callback(model, where):\n",
    "#     # Check if a new integer solution is found\n",
    "#     if where == GRB.Callback.MIPSOL:\n",
    "#         # Get the current objective value\n",
    "#         obj_val = model.cbGet(GRB.Callback.MIPSOL_OBJ)\n",
    "#         print(\"New incumbent solution found with objective value:\", obj_val)\n",
    "#         # Print the value of each variable\n",
    "#         for v in model._vars:\n",
    "#             val = model.cbGetSolution(v)\n",
    "#             print(f\"  {v.VarName} = {val}\")\n",
    "#         print(\"-------------------------------\")"
   ]
  },
  {
   "cell_type": "code",
   "execution_count": 70,
   "id": "635d8a50-a913-4f48-a499-5ee277944ca9",
   "metadata": {},
   "outputs": [],
   "source": [
    "# # Store references to variables in model object so the callback can see them\n",
    "# model._vars = model.getVars()"
   ]
  },
  {
   "cell_type": "code",
   "execution_count": 71,
   "id": "bc078b92-66de-4494-bf98-2becebfb6d83",
   "metadata": {
    "scrolled": true
   },
   "outputs": [],
   "source": [
    "# # Optimize with callback\n",
    "# model.optimize(my_callback)"
   ]
  },
  {
   "cell_type": "code",
   "execution_count": 72,
   "id": "7b1f8f35-46d2-431a-9d80-8693529b60bd",
   "metadata": {},
   "outputs": [
    {
     "name": "stdout",
     "output_type": "stream",
     "text": [
      "Gurobi Optimizer version 12.0.1 build v12.0.1rc0 (mac64[arm] - Darwin 24.0.0 24A335)\n",
      "\n",
      "CPU model: Apple M1\n",
      "Thread count: 8 physical cores, 8 logical processors, using up to 8 threads\n",
      "\n",
      "Optimize a model with 103 rows, 49 columns and 313 nonzeros\n",
      "Model fingerprint: 0x889b555a\n",
      "Model has 30 quadratic constraints\n",
      "Variable types: 7 continuous, 42 integer (42 binary)\n",
      "Coefficient statistics:\n",
      "  Matrix range     [1e+00, 2e+02]\n",
      "  QMatrix range    [1e+00, 1e+00]\n",
      "  QLMatrix range   [1e+00, 2e+02]\n",
      "  Objective range  [2e+01, 2e+01]\n",
      "  Bounds range     [1e+00, 1e+00]\n",
      "  RHS range        [1e+00, 1e+03]\n",
      "Presolve removed 89 rows and 27 columns\n",
      "Presolve time: 0.00s\n",
      "Presolved: 44 rows, 52 columns, 137 nonzeros\n",
      "Presolved model has 20 SOS constraint(s)\n",
      "Variable types: 24 continuous, 28 integer (27 binary)\n",
      "Found heuristic solution: objective -0.0000000\n",
      "Found heuristic solution: objective 20.0000000\n",
      "\n",
      "Root relaxation: objective 8.000000e+01, 31 iterations, 0.00 seconds (0.00 work units)\n",
      "\n",
      "    Nodes    |    Current Node    |     Objective Bounds      |     Work\n",
      " Expl Unexpl |  Obj  Depth IntInf | Incumbent    BestBd   Gap | It/Node Time\n",
      "\n",
      "     0     0   80.00000    0    6   20.00000   80.00000   300%     -    0s\n",
      "     0     0   77.97141    0    6   20.00000   77.97141   290%     -    0s\n",
      "     0     0   60.00000    0    6   20.00000   60.00000   200%     -    0s\n",
      "     0     0   20.00000    0    6   20.00000   20.00000  0.00%     -    0s\n",
      "\n",
      "Cutting planes:\n",
      "  Gomory: 2\n",
      "  Flow cover: 10\n",
      "  Relax-and-lift: 3\n",
      "\n",
      "Explored 1 nodes (43 simplex iterations) in 0.03 seconds (0.00 work units)\n",
      "Thread count was 8 (of 8 available processors)\n",
      "\n",
      "Solution count 2: 20 -0 \n",
      "\n",
      "Optimal solution found (tolerance 1.00e-04)\n",
      "Best objective 2.000000000000e+01, best bound 2.000000000000e+01, gap 0.0000%\n"
     ]
    }
   ],
   "source": [
    "# Optimize with callback\n",
    "model.optimize()\n",
    "\n",
    "# Check if the model is infeasible\n",
    "if model.status == GRB.INFEASIBLE:\n",
    "    print(\"The model is infeasible. Computing IIS...\")\n",
    "    \n",
    "    # Compute the IIS\n",
    "    model.computeIIS()\n",
    "    \n",
    "    # Write the IIS to a file for a complete report (optional)\n",
    "    model.write(\"model.ilp\")\n",
    "    \n",
    "    # Iterate over constraints to print those that are in the IIS\n",
    "    print(\"The following constraints are in the IIS:\")\n",
    "    for constr in model.getConstrs():\n",
    "        if constr.IISConstr:\n",
    "            print(f\"  {constr.ConstrName}\")"
   ]
  },
  {
   "cell_type": "code",
   "execution_count": 73,
   "id": "cdbe479b-38a7-4260-a815-4a842e22b695",
   "metadata": {},
   "outputs": [],
   "source": [
    "selected_edges = [(i, j) for i in poi_ids for j in poi_ids if i != j and z[i, j].X > 0.0]"
   ]
  },
  {
   "cell_type": "code",
   "execution_count": 74,
   "id": "7f650cd5-1a9e-44c4-97c4-5a74a879805c",
   "metadata": {},
   "outputs": [
    {
     "data": {
      "text/plain": [
       "[(1, 2), (2, 6)]"
      ]
     },
     "execution_count": 74,
     "metadata": {},
     "output_type": "execute_result"
    }
   ],
   "source": [
    "selected_edges"
   ]
  },
  {
   "cell_type": "code",
   "execution_count": 75,
   "id": "0a807b9b-f3a1-4f3a-8685-26b90e35ec55",
   "metadata": {},
   "outputs": [
    {
     "name": "stdout",
     "output_type": "stream",
     "text": [
      "Total Travel Time: 80.01 minutes\n",
      "Total Visit Time: 10.00 minutes\n",
      "Total Time Taken: 90.01 minutes\n"
     ]
    }
   ],
   "source": [
    "if model.status == GRB.OPTIMAL:\n",
    "    # Calculate the LHS of the time constraint after the solution\n",
    "    total_travel_time = sum(travel_times.get((i, j), 0) * z[i, j].X for i in poi_ids for j in poi_ids if i != j)\n",
    "    total_visit_time = sum(visit_times[i] * y[i].X for i in poi_ids)\n",
    "    total_time_taken = total_travel_time + total_visit_time\n",
    "    \n",
    "    print(f\"Total Travel Time: {total_travel_time:.2f} minutes\")\n",
    "    print(f\"Total Visit Time: {total_visit_time:.2f} minutes\")\n",
    "    print(f\"Total Time Taken: {total_time_taken:.2f} minutes\")\n",
    "else:\n",
    "    print(\"No optimal solution found.\")"
   ]
  },
  {
   "cell_type": "code",
   "execution_count": 76,
   "id": "cd65b24a-8cc9-421f-b62c-219b4ec9efa8",
   "metadata": {},
   "outputs": [
    {
     "name": "stdout",
     "output_type": "stream",
     "text": [
      "Optimized Utility Score: 20.0\n",
      "Selected POIs: [1, 2, 6]\n"
     ]
    }
   ],
   "source": [
    "# Extract and print the optimized utility score and the selected POIs\n",
    "if model.status == GRB.OPTIMAL:\n",
    "    optimized_utility_score = model.objVal\n",
    "    selected_pois = [i for i in poi_ids if y[i].X > 0.5]\n",
    "    print(f\"Optimized Utility Score: {optimized_utility_score}\")\n",
    "    print(f\"Selected POIs: {selected_pois}\")\n",
    "else:\n",
    "    print(\"No optimal solution found.\")"
   ]
  },
  {
   "cell_type": "code",
   "execution_count": null,
   "id": "a79c3a49-e7c8-40d3-890a-424693875cd5",
   "metadata": {},
   "outputs": [],
   "source": []
  }
 ],
 "metadata": {
  "kernelspec": {
   "display_name": "Python [conda env:base] *",
   "language": "python",
   "name": "conda-base-py"
  },
  "language_info": {
   "codemirror_mode": {
    "name": "ipython",
    "version": 3
   },
   "file_extension": ".py",
   "mimetype": "text/x-python",
   "name": "python",
   "nbconvert_exporter": "python",
   "pygments_lexer": "ipython3",
   "version": "3.12.7"
  }
 },
 "nbformat": 4,
 "nbformat_minor": 5
}
